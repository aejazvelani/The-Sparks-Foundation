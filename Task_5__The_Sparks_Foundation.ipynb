{
  "nbformat": 4,
  "nbformat_minor": 0,
  "metadata": {
    "kernelspec": {
      "display_name": "Python 3",
      "language": "python",
      "name": "python3"
    },
    "language_info": {
      "codemirror_mode": {
        "name": "ipython",
        "version": 3
      },
      "file_extension": ".py",
      "mimetype": "text/x-python",
      "name": "python",
      "nbconvert_exporter": "python",
      "pygments_lexer": "ipython3",
      "version": "3.7.6"
    },
    "colab": {
      "name": "Task_5__The_Sparks_Foundation.ipynb",
      "provenance": [],
      "collapsed_sections": [],
      "toc_visible": true
    }
  },
  "cells": [
    {
      "cell_type": "markdown",
      "metadata": {
        "id": "ieLgE3uwiLpj",
        "colab_type": "text"
      },
      "source": [
        "#**To Explore Business Analytics**\n",
        "\n",
        "#**Task:**\n",
        "Perform ‘Exploratory Data Analysis’ on the provided dataset ‘SampleSuperstore’ You are the business owner of the retail firm and want to see how your company is performing. You are interested in finding out the weak areas where you can work to make more profit. What all business problems you can derive by looking into the data? You can choose any of the tool of your choice (Python/ R/Tableau/ PowerBI/ Excel)\n",
        " \n",
        "#**Dataset**\n",
        "https://drive.google.com/file/d/1lV7is1B566UQPYzzY8R2ZmOritTW299S/view\n"
      ]
    },
    {
      "cell_type": "code",
      "metadata": {
        "id": "VQoqO1EFiLpo",
        "colab_type": "code",
        "colab": {}
      },
      "source": [
        "#Import the dependency\n",
        "import pandas as pd \n",
        "import numpy as np\n",
        "import seaborn as sns\n",
        "import matplotlib.pyplot as plt\n",
        "%matplotlib inline"
      ],
      "execution_count": null,
      "outputs": []
    },
    {
      "cell_type": "code",
      "metadata": {
        "id": "geXPKeuwiLpv",
        "colab_type": "code",
        "colab": {
          "base_uri": "https://localhost:8080/",
          "height": 317
        },
        "outputId": "8aa2a77d-1639-447e-9810-ea009d8b8c53"
      },
      "source": [
        "#load the dataset\n",
        "df = pd.read_csv(\"SampleSuperstore.csv\")\n",
        "df.head()"
      ],
      "execution_count": null,
      "outputs": [
        {
          "output_type": "execute_result",
          "data": {
            "text/html": [
              "<div>\n",
              "<style scoped>\n",
              "    .dataframe tbody tr th:only-of-type {\n",
              "        vertical-align: middle;\n",
              "    }\n",
              "\n",
              "    .dataframe tbody tr th {\n",
              "        vertical-align: top;\n",
              "    }\n",
              "\n",
              "    .dataframe thead th {\n",
              "        text-align: right;\n",
              "    }\n",
              "</style>\n",
              "<table border=\"1\" class=\"dataframe\">\n",
              "  <thead>\n",
              "    <tr style=\"text-align: right;\">\n",
              "      <th></th>\n",
              "      <th>Ship Mode</th>\n",
              "      <th>Segment</th>\n",
              "      <th>Country</th>\n",
              "      <th>City</th>\n",
              "      <th>State</th>\n",
              "      <th>Postal Code</th>\n",
              "      <th>Region</th>\n",
              "      <th>Category</th>\n",
              "      <th>Sub-Category</th>\n",
              "      <th>Sales</th>\n",
              "      <th>Quantity</th>\n",
              "      <th>Discount</th>\n",
              "      <th>Profit</th>\n",
              "    </tr>\n",
              "  </thead>\n",
              "  <tbody>\n",
              "    <tr>\n",
              "      <th>0</th>\n",
              "      <td>Second Class</td>\n",
              "      <td>Consumer</td>\n",
              "      <td>United States</td>\n",
              "      <td>Henderson</td>\n",
              "      <td>Kentucky</td>\n",
              "      <td>42420</td>\n",
              "      <td>South</td>\n",
              "      <td>Furniture</td>\n",
              "      <td>Bookcases</td>\n",
              "      <td>261.9600</td>\n",
              "      <td>2</td>\n",
              "      <td>0.00</td>\n",
              "      <td>41.9136</td>\n",
              "    </tr>\n",
              "    <tr>\n",
              "      <th>1</th>\n",
              "      <td>Second Class</td>\n",
              "      <td>Consumer</td>\n",
              "      <td>United States</td>\n",
              "      <td>Henderson</td>\n",
              "      <td>Kentucky</td>\n",
              "      <td>42420</td>\n",
              "      <td>South</td>\n",
              "      <td>Furniture</td>\n",
              "      <td>Chairs</td>\n",
              "      <td>731.9400</td>\n",
              "      <td>3</td>\n",
              "      <td>0.00</td>\n",
              "      <td>219.5820</td>\n",
              "    </tr>\n",
              "    <tr>\n",
              "      <th>2</th>\n",
              "      <td>Second Class</td>\n",
              "      <td>Corporate</td>\n",
              "      <td>United States</td>\n",
              "      <td>Los Angeles</td>\n",
              "      <td>California</td>\n",
              "      <td>90036</td>\n",
              "      <td>West</td>\n",
              "      <td>Office Supplies</td>\n",
              "      <td>Labels</td>\n",
              "      <td>14.6200</td>\n",
              "      <td>2</td>\n",
              "      <td>0.00</td>\n",
              "      <td>6.8714</td>\n",
              "    </tr>\n",
              "    <tr>\n",
              "      <th>3</th>\n",
              "      <td>Standard Class</td>\n",
              "      <td>Consumer</td>\n",
              "      <td>United States</td>\n",
              "      <td>Fort Lauderdale</td>\n",
              "      <td>Florida</td>\n",
              "      <td>33311</td>\n",
              "      <td>South</td>\n",
              "      <td>Furniture</td>\n",
              "      <td>Tables</td>\n",
              "      <td>957.5775</td>\n",
              "      <td>5</td>\n",
              "      <td>0.45</td>\n",
              "      <td>-383.0310</td>\n",
              "    </tr>\n",
              "    <tr>\n",
              "      <th>4</th>\n",
              "      <td>Standard Class</td>\n",
              "      <td>Consumer</td>\n",
              "      <td>United States</td>\n",
              "      <td>Fort Lauderdale</td>\n",
              "      <td>Florida</td>\n",
              "      <td>33311</td>\n",
              "      <td>South</td>\n",
              "      <td>Office Supplies</td>\n",
              "      <td>Storage</td>\n",
              "      <td>22.3680</td>\n",
              "      <td>2</td>\n",
              "      <td>0.20</td>\n",
              "      <td>2.5164</td>\n",
              "    </tr>\n",
              "  </tbody>\n",
              "</table>\n",
              "</div>"
            ],
            "text/plain": [
              "        Ship Mode    Segment        Country  ... Quantity Discount    Profit\n",
              "0    Second Class   Consumer  United States  ...        2     0.00   41.9136\n",
              "1    Second Class   Consumer  United States  ...        3     0.00  219.5820\n",
              "2    Second Class  Corporate  United States  ...        2     0.00    6.8714\n",
              "3  Standard Class   Consumer  United States  ...        5     0.45 -383.0310\n",
              "4  Standard Class   Consumer  United States  ...        2     0.20    2.5164\n",
              "\n",
              "[5 rows x 13 columns]"
            ]
          },
          "metadata": {
            "tags": []
          },
          "execution_count": 36
        }
      ]
    },
    {
      "cell_type": "code",
      "metadata": {
        "id": "599jAeQAmi-_",
        "colab_type": "code",
        "colab": {
          "base_uri": "https://localhost:8080/",
          "height": 50
        },
        "outputId": "2054a80b-b736-47cb-b4b8-686817a061d6"
      },
      "source": [
        "#Count the values\n",
        "df['Country'].value_counts()"
      ],
      "execution_count": null,
      "outputs": [
        {
          "output_type": "execute_result",
          "data": {
            "text/plain": [
              "United States    9994\n",
              "Name: Country, dtype: int64"
            ]
          },
          "metadata": {
            "tags": []
          },
          "execution_count": 37
        }
      ]
    },
    {
      "cell_type": "code",
      "metadata": {
        "id": "4WYmP0O_nWpm",
        "colab_type": "code",
        "colab": {
          "base_uri": "https://localhost:8080/",
          "height": 217
        },
        "outputId": "cb699de5-f2a8-4afe-a4f6-82ab407768da"
      },
      "source": [
        "df['City'].value_counts()"
      ],
      "execution_count": null,
      "outputs": [
        {
          "output_type": "execute_result",
          "data": {
            "text/plain": [
              "New York City        915\n",
              "Los Angeles          747\n",
              "Philadelphia         537\n",
              "San Francisco        510\n",
              "Seattle              428\n",
              "                    ... \n",
              "Davis                  1\n",
              "Montebello             1\n",
              "Elyria                 1\n",
              "Arlington Heights      1\n",
              "Vacaville              1\n",
              "Name: City, Length: 531, dtype: int64"
            ]
          },
          "metadata": {
            "tags": []
          },
          "execution_count": 38
        }
      ]
    },
    {
      "cell_type": "code",
      "metadata": {
        "id": "QGycjIkRnhWn",
        "colab_type": "code",
        "colab": {
          "base_uri": "https://localhost:8080/",
          "height": 33
        },
        "outputId": "1acf8bcc-0ee3-4904-8f2a-547f5148d345"
      },
      "source": [
        "#Total City and Country\n",
        "df['Country'].nunique(), df['City'].nunique()"
      ],
      "execution_count": null,
      "outputs": [
        {
          "output_type": "execute_result",
          "data": {
            "text/plain": [
              "(1, 531)"
            ]
          },
          "metadata": {
            "tags": []
          },
          "execution_count": 39
        }
      ]
    },
    {
      "cell_type": "code",
      "metadata": {
        "id": "bhAKUD6Hmox9",
        "colab_type": "code",
        "colab": {}
      },
      "source": [
        "#droping the Country bcz all data is from US\n",
        "df.drop('Country', axis =1, inplace = True)"
      ],
      "execution_count": null,
      "outputs": []
    },
    {
      "cell_type": "code",
      "metadata": {
        "id": "oTwV6MrNiLp2",
        "colab_type": "code",
        "colab": {
          "base_uri": "https://localhost:8080/",
          "height": 538
        },
        "outputId": "0cd89f53-e1ef-420e-c4c2-d145676b8d65"
      },
      "source": [
        "#droping the Postal Code bcz same as City\n",
        "df.drop('Postal Code', axis = 1, inplace = True)\n",
        "#View the data\n",
        "df"
      ],
      "execution_count": null,
      "outputs": [
        {
          "output_type": "execute_result",
          "data": {
            "text/html": [
              "<div>\n",
              "<style scoped>\n",
              "    .dataframe tbody tr th:only-of-type {\n",
              "        vertical-align: middle;\n",
              "    }\n",
              "\n",
              "    .dataframe tbody tr th {\n",
              "        vertical-align: top;\n",
              "    }\n",
              "\n",
              "    .dataframe thead th {\n",
              "        text-align: right;\n",
              "    }\n",
              "</style>\n",
              "<table border=\"1\" class=\"dataframe\">\n",
              "  <thead>\n",
              "    <tr style=\"text-align: right;\">\n",
              "      <th></th>\n",
              "      <th>Ship Mode</th>\n",
              "      <th>Segment</th>\n",
              "      <th>City</th>\n",
              "      <th>State</th>\n",
              "      <th>Region</th>\n",
              "      <th>Category</th>\n",
              "      <th>Sub-Category</th>\n",
              "      <th>Sales</th>\n",
              "      <th>Quantity</th>\n",
              "      <th>Discount</th>\n",
              "      <th>Profit</th>\n",
              "    </tr>\n",
              "  </thead>\n",
              "  <tbody>\n",
              "    <tr>\n",
              "      <th>0</th>\n",
              "      <td>Second Class</td>\n",
              "      <td>Consumer</td>\n",
              "      <td>Henderson</td>\n",
              "      <td>Kentucky</td>\n",
              "      <td>South</td>\n",
              "      <td>Furniture</td>\n",
              "      <td>Bookcases</td>\n",
              "      <td>261.9600</td>\n",
              "      <td>2</td>\n",
              "      <td>0.00</td>\n",
              "      <td>41.9136</td>\n",
              "    </tr>\n",
              "    <tr>\n",
              "      <th>1</th>\n",
              "      <td>Second Class</td>\n",
              "      <td>Consumer</td>\n",
              "      <td>Henderson</td>\n",
              "      <td>Kentucky</td>\n",
              "      <td>South</td>\n",
              "      <td>Furniture</td>\n",
              "      <td>Chairs</td>\n",
              "      <td>731.9400</td>\n",
              "      <td>3</td>\n",
              "      <td>0.00</td>\n",
              "      <td>219.5820</td>\n",
              "    </tr>\n",
              "    <tr>\n",
              "      <th>2</th>\n",
              "      <td>Second Class</td>\n",
              "      <td>Corporate</td>\n",
              "      <td>Los Angeles</td>\n",
              "      <td>California</td>\n",
              "      <td>West</td>\n",
              "      <td>Office Supplies</td>\n",
              "      <td>Labels</td>\n",
              "      <td>14.6200</td>\n",
              "      <td>2</td>\n",
              "      <td>0.00</td>\n",
              "      <td>6.8714</td>\n",
              "    </tr>\n",
              "    <tr>\n",
              "      <th>3</th>\n",
              "      <td>Standard Class</td>\n",
              "      <td>Consumer</td>\n",
              "      <td>Fort Lauderdale</td>\n",
              "      <td>Florida</td>\n",
              "      <td>South</td>\n",
              "      <td>Furniture</td>\n",
              "      <td>Tables</td>\n",
              "      <td>957.5775</td>\n",
              "      <td>5</td>\n",
              "      <td>0.45</td>\n",
              "      <td>-383.0310</td>\n",
              "    </tr>\n",
              "    <tr>\n",
              "      <th>4</th>\n",
              "      <td>Standard Class</td>\n",
              "      <td>Consumer</td>\n",
              "      <td>Fort Lauderdale</td>\n",
              "      <td>Florida</td>\n",
              "      <td>South</td>\n",
              "      <td>Office Supplies</td>\n",
              "      <td>Storage</td>\n",
              "      <td>22.3680</td>\n",
              "      <td>2</td>\n",
              "      <td>0.20</td>\n",
              "      <td>2.5164</td>\n",
              "    </tr>\n",
              "    <tr>\n",
              "      <th>...</th>\n",
              "      <td>...</td>\n",
              "      <td>...</td>\n",
              "      <td>...</td>\n",
              "      <td>...</td>\n",
              "      <td>...</td>\n",
              "      <td>...</td>\n",
              "      <td>...</td>\n",
              "      <td>...</td>\n",
              "      <td>...</td>\n",
              "      <td>...</td>\n",
              "      <td>...</td>\n",
              "    </tr>\n",
              "    <tr>\n",
              "      <th>9989</th>\n",
              "      <td>Second Class</td>\n",
              "      <td>Consumer</td>\n",
              "      <td>Miami</td>\n",
              "      <td>Florida</td>\n",
              "      <td>South</td>\n",
              "      <td>Furniture</td>\n",
              "      <td>Furnishings</td>\n",
              "      <td>25.2480</td>\n",
              "      <td>3</td>\n",
              "      <td>0.20</td>\n",
              "      <td>4.1028</td>\n",
              "    </tr>\n",
              "    <tr>\n",
              "      <th>9990</th>\n",
              "      <td>Standard Class</td>\n",
              "      <td>Consumer</td>\n",
              "      <td>Costa Mesa</td>\n",
              "      <td>California</td>\n",
              "      <td>West</td>\n",
              "      <td>Furniture</td>\n",
              "      <td>Furnishings</td>\n",
              "      <td>91.9600</td>\n",
              "      <td>2</td>\n",
              "      <td>0.00</td>\n",
              "      <td>15.6332</td>\n",
              "    </tr>\n",
              "    <tr>\n",
              "      <th>9991</th>\n",
              "      <td>Standard Class</td>\n",
              "      <td>Consumer</td>\n",
              "      <td>Costa Mesa</td>\n",
              "      <td>California</td>\n",
              "      <td>West</td>\n",
              "      <td>Technology</td>\n",
              "      <td>Phones</td>\n",
              "      <td>258.5760</td>\n",
              "      <td>2</td>\n",
              "      <td>0.20</td>\n",
              "      <td>19.3932</td>\n",
              "    </tr>\n",
              "    <tr>\n",
              "      <th>9992</th>\n",
              "      <td>Standard Class</td>\n",
              "      <td>Consumer</td>\n",
              "      <td>Costa Mesa</td>\n",
              "      <td>California</td>\n",
              "      <td>West</td>\n",
              "      <td>Office Supplies</td>\n",
              "      <td>Paper</td>\n",
              "      <td>29.6000</td>\n",
              "      <td>4</td>\n",
              "      <td>0.00</td>\n",
              "      <td>13.3200</td>\n",
              "    </tr>\n",
              "    <tr>\n",
              "      <th>9993</th>\n",
              "      <td>Second Class</td>\n",
              "      <td>Consumer</td>\n",
              "      <td>Westminster</td>\n",
              "      <td>California</td>\n",
              "      <td>West</td>\n",
              "      <td>Office Supplies</td>\n",
              "      <td>Appliances</td>\n",
              "      <td>243.1600</td>\n",
              "      <td>2</td>\n",
              "      <td>0.00</td>\n",
              "      <td>72.9480</td>\n",
              "    </tr>\n",
              "  </tbody>\n",
              "</table>\n",
              "<p>9994 rows × 11 columns</p>\n",
              "</div>"
            ],
            "text/plain": [
              "           Ship Mode    Segment             City  ... Quantity Discount    Profit\n",
              "0       Second Class   Consumer        Henderson  ...        2     0.00   41.9136\n",
              "1       Second Class   Consumer        Henderson  ...        3     0.00  219.5820\n",
              "2       Second Class  Corporate      Los Angeles  ...        2     0.00    6.8714\n",
              "3     Standard Class   Consumer  Fort Lauderdale  ...        5     0.45 -383.0310\n",
              "4     Standard Class   Consumer  Fort Lauderdale  ...        2     0.20    2.5164\n",
              "...              ...        ...              ...  ...      ...      ...       ...\n",
              "9989    Second Class   Consumer            Miami  ...        3     0.20    4.1028\n",
              "9990  Standard Class   Consumer       Costa Mesa  ...        2     0.00   15.6332\n",
              "9991  Standard Class   Consumer       Costa Mesa  ...        2     0.20   19.3932\n",
              "9992  Standard Class   Consumer       Costa Mesa  ...        4     0.00   13.3200\n",
              "9993    Second Class   Consumer      Westminster  ...        2     0.00   72.9480\n",
              "\n",
              "[9994 rows x 11 columns]"
            ]
          },
          "metadata": {
            "tags": []
          },
          "execution_count": 41
        }
      ]
    },
    {
      "cell_type": "code",
      "metadata": {
        "id": "DkVh4yulnOxx",
        "colab_type": "code",
        "colab": {
          "base_uri": "https://localhost:8080/",
          "height": 217
        },
        "outputId": "16679082-b70e-42a9-80da-ac9de08c4a45"
      },
      "source": [
        "#checking for NULL value\n",
        "df.isnull().sum()"
      ],
      "execution_count": null,
      "outputs": [
        {
          "output_type": "execute_result",
          "data": {
            "text/plain": [
              "Ship Mode       0\n",
              "Segment         0\n",
              "City            0\n",
              "State           0\n",
              "Region          0\n",
              "Category        0\n",
              "Sub-Category    0\n",
              "Sales           0\n",
              "Quantity        0\n",
              "Discount        0\n",
              "Profit          0\n",
              "dtype: int64"
            ]
          },
          "metadata": {
            "tags": []
          },
          "execution_count": 43
        }
      ]
    },
    {
      "cell_type": "markdown",
      "metadata": {
        "id": "G9GVPcPek5o4",
        "colab_type": "text"
      },
      "source": [
        "## Statistics Description of Data "
      ]
    },
    {
      "cell_type": "code",
      "metadata": {
        "id": "wVFGbMHJiLqD",
        "colab_type": "code",
        "colab": {
          "base_uri": "https://localhost:8080/",
          "height": 286
        },
        "outputId": "bce5a3b9-d5d7-45c3-fee0-1d6a11b31ef0"
      },
      "source": [
        "df.describe()"
      ],
      "execution_count": null,
      "outputs": [
        {
          "output_type": "execute_result",
          "data": {
            "text/html": [
              "<div>\n",
              "<style scoped>\n",
              "    .dataframe tbody tr th:only-of-type {\n",
              "        vertical-align: middle;\n",
              "    }\n",
              "\n",
              "    .dataframe tbody tr th {\n",
              "        vertical-align: top;\n",
              "    }\n",
              "\n",
              "    .dataframe thead th {\n",
              "        text-align: right;\n",
              "    }\n",
              "</style>\n",
              "<table border=\"1\" class=\"dataframe\">\n",
              "  <thead>\n",
              "    <tr style=\"text-align: right;\">\n",
              "      <th></th>\n",
              "      <th>Sales</th>\n",
              "      <th>Quantity</th>\n",
              "      <th>Discount</th>\n",
              "      <th>Profit</th>\n",
              "    </tr>\n",
              "  </thead>\n",
              "  <tbody>\n",
              "    <tr>\n",
              "      <th>count</th>\n",
              "      <td>9994.000000</td>\n",
              "      <td>9994.000000</td>\n",
              "      <td>9994.000000</td>\n",
              "      <td>9994.000000</td>\n",
              "    </tr>\n",
              "    <tr>\n",
              "      <th>mean</th>\n",
              "      <td>229.858001</td>\n",
              "      <td>3.789574</td>\n",
              "      <td>0.156203</td>\n",
              "      <td>28.656896</td>\n",
              "    </tr>\n",
              "    <tr>\n",
              "      <th>std</th>\n",
              "      <td>623.245101</td>\n",
              "      <td>2.225110</td>\n",
              "      <td>0.206452</td>\n",
              "      <td>234.260108</td>\n",
              "    </tr>\n",
              "    <tr>\n",
              "      <th>min</th>\n",
              "      <td>0.444000</td>\n",
              "      <td>1.000000</td>\n",
              "      <td>0.000000</td>\n",
              "      <td>-6599.978000</td>\n",
              "    </tr>\n",
              "    <tr>\n",
              "      <th>25%</th>\n",
              "      <td>17.280000</td>\n",
              "      <td>2.000000</td>\n",
              "      <td>0.000000</td>\n",
              "      <td>1.728750</td>\n",
              "    </tr>\n",
              "    <tr>\n",
              "      <th>50%</th>\n",
              "      <td>54.490000</td>\n",
              "      <td>3.000000</td>\n",
              "      <td>0.200000</td>\n",
              "      <td>8.666500</td>\n",
              "    </tr>\n",
              "    <tr>\n",
              "      <th>75%</th>\n",
              "      <td>209.940000</td>\n",
              "      <td>5.000000</td>\n",
              "      <td>0.200000</td>\n",
              "      <td>29.364000</td>\n",
              "    </tr>\n",
              "    <tr>\n",
              "      <th>max</th>\n",
              "      <td>22638.480000</td>\n",
              "      <td>14.000000</td>\n",
              "      <td>0.800000</td>\n",
              "      <td>8399.976000</td>\n",
              "    </tr>\n",
              "  </tbody>\n",
              "</table>\n",
              "</div>"
            ],
            "text/plain": [
              "              Sales     Quantity     Discount       Profit\n",
              "count   9994.000000  9994.000000  9994.000000  9994.000000\n",
              "mean     229.858001     3.789574     0.156203    28.656896\n",
              "std      623.245101     2.225110     0.206452   234.260108\n",
              "min        0.444000     1.000000     0.000000 -6599.978000\n",
              "25%       17.280000     2.000000     0.000000     1.728750\n",
              "50%       54.490000     3.000000     0.200000     8.666500\n",
              "75%      209.940000     5.000000     0.200000    29.364000\n",
              "max    22638.480000    14.000000     0.800000  8399.976000"
            ]
          },
          "metadata": {
            "tags": []
          },
          "execution_count": 44
        }
      ]
    },
    {
      "cell_type": "code",
      "metadata": {
        "id": "M__jXpUxiLqL",
        "colab_type": "code",
        "colab": {
          "base_uri": "https://localhost:8080/",
          "height": 166
        },
        "outputId": "1a29aa82-2500-41ee-f0e3-a47e017d11c6"
      },
      "source": [
        "#Data Correlation\n",
        "df.corr()"
      ],
      "execution_count": null,
      "outputs": [
        {
          "output_type": "execute_result",
          "data": {
            "text/html": [
              "<div>\n",
              "<style scoped>\n",
              "    .dataframe tbody tr th:only-of-type {\n",
              "        vertical-align: middle;\n",
              "    }\n",
              "\n",
              "    .dataframe tbody tr th {\n",
              "        vertical-align: top;\n",
              "    }\n",
              "\n",
              "    .dataframe thead th {\n",
              "        text-align: right;\n",
              "    }\n",
              "</style>\n",
              "<table border=\"1\" class=\"dataframe\">\n",
              "  <thead>\n",
              "    <tr style=\"text-align: right;\">\n",
              "      <th></th>\n",
              "      <th>Sales</th>\n",
              "      <th>Quantity</th>\n",
              "      <th>Discount</th>\n",
              "      <th>Profit</th>\n",
              "    </tr>\n",
              "  </thead>\n",
              "  <tbody>\n",
              "    <tr>\n",
              "      <th>Sales</th>\n",
              "      <td>1.000000</td>\n",
              "      <td>0.200795</td>\n",
              "      <td>-0.028190</td>\n",
              "      <td>0.479064</td>\n",
              "    </tr>\n",
              "    <tr>\n",
              "      <th>Quantity</th>\n",
              "      <td>0.200795</td>\n",
              "      <td>1.000000</td>\n",
              "      <td>0.008623</td>\n",
              "      <td>0.066253</td>\n",
              "    </tr>\n",
              "    <tr>\n",
              "      <th>Discount</th>\n",
              "      <td>-0.028190</td>\n",
              "      <td>0.008623</td>\n",
              "      <td>1.000000</td>\n",
              "      <td>-0.219487</td>\n",
              "    </tr>\n",
              "    <tr>\n",
              "      <th>Profit</th>\n",
              "      <td>0.479064</td>\n",
              "      <td>0.066253</td>\n",
              "      <td>-0.219487</td>\n",
              "      <td>1.000000</td>\n",
              "    </tr>\n",
              "  </tbody>\n",
              "</table>\n",
              "</div>"
            ],
            "text/plain": [
              "             Sales  Quantity  Discount    Profit\n",
              "Sales     1.000000  0.200795 -0.028190  0.479064\n",
              "Quantity  0.200795  1.000000  0.008623  0.066253\n",
              "Discount -0.028190  0.008623  1.000000 -0.219487\n",
              "Profit    0.479064  0.066253 -0.219487  1.000000"
            ]
          },
          "metadata": {
            "tags": []
          },
          "execution_count": 45
        }
      ]
    },
    {
      "cell_type": "markdown",
      "metadata": {
        "id": "4GL7oG-aiLqR",
        "colab_type": "text"
      },
      "source": [
        "## Plotting the data"
      ]
    },
    {
      "cell_type": "code",
      "metadata": {
        "id": "xl28K5tloLHD",
        "colab_type": "code",
        "colab": {
          "base_uri": "https://localhost:8080/",
          "height": 374
        },
        "outputId": "c640168b-55e6-4057-fb1e-544f96006cad"
      },
      "source": [
        "#targeting the Category vs Sale\n",
        "#Plotting bar chart\n",
        "plt.figure(figsize = (10,6))\n",
        "df['Category'].value_counts().plot(kind = 'bar')\n",
        "plt.xticks(rotation = 0);"
      ],
      "execution_count": null,
      "outputs": [
        {
          "output_type": "display_data",
          "data": {
            "image/png": "[encoded data removed]",
            "text/plain": [
              "<Figure size 720x432 with 1 Axes>"
            ]
          },
          "metadata": {
            "tags": [],
            "needs_background": "light"
          }
        }
      ]
    },
    {
      "cell_type": "markdown",
      "metadata": {
        "id": "vv17PM_CpFpZ",
        "colab_type": "text"
      },
      "source": [
        "Clearly the Office Suppiles has highest sale\n"
      ]
    },
    {
      "cell_type": "code",
      "metadata": {
        "id": "1GBNF2k9iLqT",
        "colab_type": "code",
        "colab": {
          "base_uri": "https://localhost:8080/",
          "height": 411
        },
        "outputId": "d177d955-fd7c-4dfd-a9d3-850bb77b44b1"
      },
      "source": [
        "#Finding the item whose sale is greate in Sub_category\n",
        "#Plotting pie chart\n",
        "fig = plt.figure(figsize= (10,7))\n",
        "df['Sub-Category'].value_counts().plot.pie(autopct = '%.2f',shadow = True);"
      ],
      "execution_count": null,
      "outputs": [
        {
          "output_type": "display_data",
          "data": {
            "image/png": "[encoded data removed]",
            "text/plain": [
              "<Figure size 720x504 with 1 Axes>"
            ]
          },
          "metadata": {
            "tags": []
          }
        }
      ]
    },
    {
      "cell_type": "markdown",
      "metadata": {
        "id": "DGUi3JAeiLqZ",
        "colab_type": "text"
      },
      "source": [
        "#**Region VS Category**\n"
      ]
    },
    {
      "cell_type": "code",
      "metadata": {
        "id": "Xh0jLkNhiLqa",
        "colab_type": "code",
        "colab": {
          "base_uri": "https://localhost:8080/",
          "height": 430
        },
        "outputId": "25e5bb81-0678-4374-d5fa-e9a7723f01c1"
      },
      "source": [
        "# Region VS Category in bar chart\n",
        "pd.crosstab(df['Region'],df['Category']).plot(kind = 'bar',figsize=(10,6))"
      ],
      "execution_count": null,
      "outputs": [
        {
          "output_type": "execute_result",
          "data": {
            "text/plain": [
              "<matplotlib.axes._subplots.AxesSubplot at 0x7fd90caa29e8>"
            ]
          },
          "metadata": {
            "tags": []
          },
          "execution_count": 48
        },
        {
          "output_type": "display_data",
          "data": {
            "image/png": "[encoded data removed]",
            "text/plain": [
              "<Figure size 720x432 with 1 Axes>"
            ]
          },
          "metadata": {
            "tags": [],
            "needs_background": "light"
          }
        }
      ]
    },
    {
      "cell_type": "markdown",
      "metadata": {
        "id": "DKD6T9iQsyPo",
        "colab_type": "text"
      },
      "source": [
        "#From the above graph we conclude -\n",
        "*  For all regions maximun sell is with \"OFFICE SUPPILES\"\n",
        "*  Maximum sale is in **West Region** and minimum in **South Region** of United States"
      ]
    },
    {
      "cell_type": "markdown",
      "metadata": {
        "id": "D6FAQcT85Srl",
        "colab_type": "text"
      },
      "source": [
        "#**Now we want to find Maximum profit and loss**\n"
      ]
    },
    {
      "cell_type": "code",
      "metadata": {
        "id": "h1bavo34iLqi",
        "colab_type": "code",
        "colab": {
          "base_uri": "https://localhost:8080/",
          "height": 297
        },
        "outputId": "67a6a360-8141-462a-e513-ed47306700c7"
      },
      "source": [
        "#Adding Profit and Profit Percentage coulumn\n",
        "df['%_profit'] = df['Profit'] / df['Sales'] * 100\n",
        "df.head()"
      ],
      "execution_count": 67,
      "outputs": [
        {
          "output_type": "execute_result",
          "data": {
            "text/html": [
              "<div>\n",
              "<style scoped>\n",
              "    .dataframe tbody tr th:only-of-type {\n",
              "        vertical-align: middle;\n",
              "    }\n",
              "\n",
              "    .dataframe tbody tr th {\n",
              "        vertical-align: top;\n",
              "    }\n",
              "\n",
              "    .dataframe thead th {\n",
              "        text-align: right;\n",
              "    }\n",
              "</style>\n",
              "<table border=\"1\" class=\"dataframe\">\n",
              "  <thead>\n",
              "    <tr style=\"text-align: right;\">\n",
              "      <th></th>\n",
              "      <th>Ship Mode</th>\n",
              "      <th>Segment</th>\n",
              "      <th>City</th>\n",
              "      <th>State</th>\n",
              "      <th>Region</th>\n",
              "      <th>Category</th>\n",
              "      <th>Sub-Category</th>\n",
              "      <th>Sales</th>\n",
              "      <th>Quantity</th>\n",
              "      <th>Discount</th>\n",
              "      <th>Profit</th>\n",
              "      <th>%_profit</th>\n",
              "    </tr>\n",
              "  </thead>\n",
              "  <tbody>\n",
              "    <tr>\n",
              "      <th>0</th>\n",
              "      <td>Second Class</td>\n",
              "      <td>Consumer</td>\n",
              "      <td>Henderson</td>\n",
              "      <td>Kentucky</td>\n",
              "      <td>South</td>\n",
              "      <td>Furniture</td>\n",
              "      <td>Bookcases</td>\n",
              "      <td>261.9600</td>\n",
              "      <td>2</td>\n",
              "      <td>0.00</td>\n",
              "      <td>41.9136</td>\n",
              "      <td>16.00</td>\n",
              "    </tr>\n",
              "    <tr>\n",
              "      <th>1</th>\n",
              "      <td>Second Class</td>\n",
              "      <td>Consumer</td>\n",
              "      <td>Henderson</td>\n",
              "      <td>Kentucky</td>\n",
              "      <td>South</td>\n",
              "      <td>Furniture</td>\n",
              "      <td>Chairs</td>\n",
              "      <td>731.9400</td>\n",
              "      <td>3</td>\n",
              "      <td>0.00</td>\n",
              "      <td>219.5820</td>\n",
              "      <td>30.00</td>\n",
              "    </tr>\n",
              "    <tr>\n",
              "      <th>2</th>\n",
              "      <td>Second Class</td>\n",
              "      <td>Corporate</td>\n",
              "      <td>Los Angeles</td>\n",
              "      <td>California</td>\n",
              "      <td>West</td>\n",
              "      <td>Office Supplies</td>\n",
              "      <td>Labels</td>\n",
              "      <td>14.6200</td>\n",
              "      <td>2</td>\n",
              "      <td>0.00</td>\n",
              "      <td>6.8714</td>\n",
              "      <td>47.00</td>\n",
              "    </tr>\n",
              "    <tr>\n",
              "      <th>3</th>\n",
              "      <td>Standard Class</td>\n",
              "      <td>Consumer</td>\n",
              "      <td>Fort Lauderdale</td>\n",
              "      <td>Florida</td>\n",
              "      <td>South</td>\n",
              "      <td>Furniture</td>\n",
              "      <td>Tables</td>\n",
              "      <td>957.5775</td>\n",
              "      <td>5</td>\n",
              "      <td>0.45</td>\n",
              "      <td>-383.0310</td>\n",
              "      <td>-40.00</td>\n",
              "    </tr>\n",
              "    <tr>\n",
              "      <th>4</th>\n",
              "      <td>Standard Class</td>\n",
              "      <td>Consumer</td>\n",
              "      <td>Fort Lauderdale</td>\n",
              "      <td>Florida</td>\n",
              "      <td>South</td>\n",
              "      <td>Office Supplies</td>\n",
              "      <td>Storage</td>\n",
              "      <td>22.3680</td>\n",
              "      <td>2</td>\n",
              "      <td>0.20</td>\n",
              "      <td>2.5164</td>\n",
              "      <td>11.25</td>\n",
              "    </tr>\n",
              "  </tbody>\n",
              "</table>\n",
              "</div>"
            ],
            "text/plain": [
              "        Ship Mode    Segment             City  ... Discount    Profit %_profit\n",
              "0    Second Class   Consumer        Henderson  ...     0.00   41.9136    16.00\n",
              "1    Second Class   Consumer        Henderson  ...     0.00  219.5820    30.00\n",
              "2    Second Class  Corporate      Los Angeles  ...     0.00    6.8714    47.00\n",
              "3  Standard Class   Consumer  Fort Lauderdale  ...     0.45 -383.0310   -40.00\n",
              "4  Standard Class   Consumer  Fort Lauderdale  ...     0.20    2.5164    11.25\n",
              "\n",
              "[5 rows x 12 columns]"
            ]
          },
          "metadata": {
            "tags": []
          },
          "execution_count": 67
        }
      ]
    },
    {
      "cell_type": "code",
      "metadata": {
        "id": "6teYVpNJD7LH",
        "colab_type": "code",
        "colab": {
          "base_uri": "https://localhost:8080/",
          "height": 50
        },
        "outputId": "cf2e73d0-d3ff-43b1-823c-bf84246cb186"
      },
      "source": [
        "#Maximum profit \n",
        "print(\"MAXIMUM PROFIT\")\n",
        "max(df['%_profit'])"
      ],
      "execution_count": 68,
      "outputs": [
        {
          "output_type": "stream",
          "text": [
            "MAXIMUM PROFIT\n"
          ],
          "name": "stdout"
        },
        {
          "output_type": "execute_result",
          "data": {
            "text/plain": [
              "50.0"
            ]
          },
          "metadata": {
            "tags": []
          },
          "execution_count": 68
        }
      ]
    },
    {
      "cell_type": "code",
      "metadata": {
        "id": "Gdjpvfq3EN5E",
        "colab_type": "code",
        "colab": {
          "base_uri": "https://localhost:8080/",
          "height": 50
        },
        "outputId": "4a717039-ff47-44d0-c632-f2d7a88620e8"
      },
      "source": [
        "#Maximum loss \n",
        "print(\"MAXIMIM LOSS\")\n",
        "min(df['%_profit'])"
      ],
      "execution_count": 69,
      "outputs": [
        {
          "output_type": "stream",
          "text": [
            "MAXIMIM LOSS\n"
          ],
          "name": "stdout"
        },
        {
          "output_type": "execute_result",
          "data": {
            "text/plain": [
              "-275.0"
            ]
          },
          "metadata": {
            "tags": []
          },
          "execution_count": 69
        }
      ]
    },
    {
      "cell_type": "code",
      "metadata": {
        "id": "DlqU3dEXEVPR",
        "colab_type": "code",
        "colab": {
          "base_uri": "https://localhost:8080/",
          "height": 608
        },
        "outputId": "ac2b25b6-27d3-41a8-b4c0-39c236cdeb3d"
      },
      "source": [
        "#Checking total data less than zero\n",
        "loss = df[df['%_profit'] < 0]\n",
        "loss"
      ],
      "execution_count": 70,
      "outputs": [
        {
          "output_type": "execute_result",
          "data": {
            "text/html": [
              "<div>\n",
              "<style scoped>\n",
              "    .dataframe tbody tr th:only-of-type {\n",
              "        vertical-align: middle;\n",
              "    }\n",
              "\n",
              "    .dataframe tbody tr th {\n",
              "        vertical-align: top;\n",
              "    }\n",
              "\n",
              "    .dataframe thead th {\n",
              "        text-align: right;\n",
              "    }\n",
              "</style>\n",
              "<table border=\"1\" class=\"dataframe\">\n",
              "  <thead>\n",
              "    <tr style=\"text-align: right;\">\n",
              "      <th></th>\n",
              "      <th>Ship Mode</th>\n",
              "      <th>Segment</th>\n",
              "      <th>City</th>\n",
              "      <th>State</th>\n",
              "      <th>Region</th>\n",
              "      <th>Category</th>\n",
              "      <th>Sub-Category</th>\n",
              "      <th>Sales</th>\n",
              "      <th>Quantity</th>\n",
              "      <th>Discount</th>\n",
              "      <th>Profit</th>\n",
              "      <th>%_profit</th>\n",
              "    </tr>\n",
              "  </thead>\n",
              "  <tbody>\n",
              "    <tr>\n",
              "      <th>3</th>\n",
              "      <td>Standard Class</td>\n",
              "      <td>Consumer</td>\n",
              "      <td>Fort Lauderdale</td>\n",
              "      <td>Florida</td>\n",
              "      <td>South</td>\n",
              "      <td>Furniture</td>\n",
              "      <td>Tables</td>\n",
              "      <td>957.5775</td>\n",
              "      <td>5</td>\n",
              "      <td>0.45</td>\n",
              "      <td>-383.0310</td>\n",
              "      <td>-40.000000</td>\n",
              "    </tr>\n",
              "    <tr>\n",
              "      <th>14</th>\n",
              "      <td>Standard Class</td>\n",
              "      <td>Home Office</td>\n",
              "      <td>Fort Worth</td>\n",
              "      <td>Texas</td>\n",
              "      <td>Central</td>\n",
              "      <td>Office Supplies</td>\n",
              "      <td>Appliances</td>\n",
              "      <td>68.8100</td>\n",
              "      <td>5</td>\n",
              "      <td>0.80</td>\n",
              "      <td>-123.8580</td>\n",
              "      <td>-180.000000</td>\n",
              "    </tr>\n",
              "    <tr>\n",
              "      <th>15</th>\n",
              "      <td>Standard Class</td>\n",
              "      <td>Home Office</td>\n",
              "      <td>Fort Worth</td>\n",
              "      <td>Texas</td>\n",
              "      <td>Central</td>\n",
              "      <td>Office Supplies</td>\n",
              "      <td>Binders</td>\n",
              "      <td>2.5440</td>\n",
              "      <td>3</td>\n",
              "      <td>0.80</td>\n",
              "      <td>-3.8160</td>\n",
              "      <td>-150.000000</td>\n",
              "    </tr>\n",
              "    <tr>\n",
              "      <th>23</th>\n",
              "      <td>Second Class</td>\n",
              "      <td>Consumer</td>\n",
              "      <td>Philadelphia</td>\n",
              "      <td>Pennsylvania</td>\n",
              "      <td>East</td>\n",
              "      <td>Furniture</td>\n",
              "      <td>Chairs</td>\n",
              "      <td>71.3720</td>\n",
              "      <td>2</td>\n",
              "      <td>0.30</td>\n",
              "      <td>-1.0196</td>\n",
              "      <td>-1.428571</td>\n",
              "    </tr>\n",
              "    <tr>\n",
              "      <th>27</th>\n",
              "      <td>Standard Class</td>\n",
              "      <td>Consumer</td>\n",
              "      <td>Philadelphia</td>\n",
              "      <td>Pennsylvania</td>\n",
              "      <td>East</td>\n",
              "      <td>Furniture</td>\n",
              "      <td>Bookcases</td>\n",
              "      <td>3083.4300</td>\n",
              "      <td>7</td>\n",
              "      <td>0.50</td>\n",
              "      <td>-1665.0522</td>\n",
              "      <td>-54.000000</td>\n",
              "    </tr>\n",
              "    <tr>\n",
              "      <th>...</th>\n",
              "      <td>...</td>\n",
              "      <td>...</td>\n",
              "      <td>...</td>\n",
              "      <td>...</td>\n",
              "      <td>...</td>\n",
              "      <td>...</td>\n",
              "      <td>...</td>\n",
              "      <td>...</td>\n",
              "      <td>...</td>\n",
              "      <td>...</td>\n",
              "      <td>...</td>\n",
              "      <td>...</td>\n",
              "    </tr>\n",
              "    <tr>\n",
              "      <th>9920</th>\n",
              "      <td>Standard Class</td>\n",
              "      <td>Corporate</td>\n",
              "      <td>Bryan</td>\n",
              "      <td>Texas</td>\n",
              "      <td>Central</td>\n",
              "      <td>Office Supplies</td>\n",
              "      <td>Binders</td>\n",
              "      <td>22.3860</td>\n",
              "      <td>7</td>\n",
              "      <td>0.80</td>\n",
              "      <td>-35.8176</td>\n",
              "      <td>-160.000000</td>\n",
              "    </tr>\n",
              "    <tr>\n",
              "      <th>9921</th>\n",
              "      <td>Standard Class</td>\n",
              "      <td>Home Office</td>\n",
              "      <td>Akron</td>\n",
              "      <td>Ohio</td>\n",
              "      <td>East</td>\n",
              "      <td>Office Supplies</td>\n",
              "      <td>Binders</td>\n",
              "      <td>5.7420</td>\n",
              "      <td>3</td>\n",
              "      <td>0.70</td>\n",
              "      <td>-4.5936</td>\n",
              "      <td>-80.000000</td>\n",
              "    </tr>\n",
              "    <tr>\n",
              "      <th>9931</th>\n",
              "      <td>Standard Class</td>\n",
              "      <td>Consumer</td>\n",
              "      <td>San Bernardino</td>\n",
              "      <td>California</td>\n",
              "      <td>West</td>\n",
              "      <td>Furniture</td>\n",
              "      <td>Bookcases</td>\n",
              "      <td>683.3320</td>\n",
              "      <td>4</td>\n",
              "      <td>0.15</td>\n",
              "      <td>-40.1960</td>\n",
              "      <td>-5.882353</td>\n",
              "    </tr>\n",
              "    <tr>\n",
              "      <th>9937</th>\n",
              "      <td>Second Class</td>\n",
              "      <td>Corporate</td>\n",
              "      <td>Los Angeles</td>\n",
              "      <td>California</td>\n",
              "      <td>West</td>\n",
              "      <td>Furniture</td>\n",
              "      <td>Tables</td>\n",
              "      <td>71.0880</td>\n",
              "      <td>2</td>\n",
              "      <td>0.20</td>\n",
              "      <td>-1.7772</td>\n",
              "      <td>-2.500000</td>\n",
              "    </tr>\n",
              "    <tr>\n",
              "      <th>9962</th>\n",
              "      <td>First Class</td>\n",
              "      <td>Home Office</td>\n",
              "      <td>Houston</td>\n",
              "      <td>Texas</td>\n",
              "      <td>Central</td>\n",
              "      <td>Furniture</td>\n",
              "      <td>Bookcases</td>\n",
              "      <td>383.4656</td>\n",
              "      <td>4</td>\n",
              "      <td>0.32</td>\n",
              "      <td>-67.6704</td>\n",
              "      <td>-17.647059</td>\n",
              "    </tr>\n",
              "  </tbody>\n",
              "</table>\n",
              "<p>1871 rows × 12 columns</p>\n",
              "</div>"
            ],
            "text/plain": [
              "           Ship Mode      Segment  ...     Profit    %_profit\n",
              "3     Standard Class     Consumer  ...  -383.0310  -40.000000\n",
              "14    Standard Class  Home Office  ...  -123.8580 -180.000000\n",
              "15    Standard Class  Home Office  ...    -3.8160 -150.000000\n",
              "23      Second Class     Consumer  ...    -1.0196   -1.428571\n",
              "27    Standard Class     Consumer  ... -1665.0522  -54.000000\n",
              "...              ...          ...  ...        ...         ...\n",
              "9920  Standard Class    Corporate  ...   -35.8176 -160.000000\n",
              "9921  Standard Class  Home Office  ...    -4.5936  -80.000000\n",
              "9931  Standard Class     Consumer  ...   -40.1960   -5.882353\n",
              "9937    Second Class    Corporate  ...    -1.7772   -2.500000\n",
              "9962     First Class  Home Office  ...   -67.6704  -17.647059\n",
              "\n",
              "[1871 rows x 12 columns]"
            ]
          },
          "metadata": {
            "tags": []
          },
          "execution_count": 70
        }
      ]
    },
    {
      "cell_type": "code",
      "metadata": {
        "id": "grJcLBX1EYsD",
        "colab_type": "code",
        "colab": {
          "base_uri": "https://localhost:8080/",
          "height": 50
        },
        "outputId": "b8a5d7b5-1f5f-4ffc-db70-992a15966442"
      },
      "source": [
        "#Shape of the loss data\n",
        "print(\"Total size of Loss data \")\n",
        "loss.shape"
      ],
      "execution_count": 71,
      "outputs": [
        {
          "output_type": "stream",
          "text": [
            "Total size of Loss data \n"
          ],
          "name": "stdout"
        },
        {
          "output_type": "execute_result",
          "data": {
            "text/plain": [
              "(1871, 12)"
            ]
          },
          "metadata": {
            "tags": []
          },
          "execution_count": 71
        }
      ]
    },
    {
      "cell_type": "code",
      "metadata": {
        "id": "6B5mpd9REiSi",
        "colab_type": "code",
        "colab": {
          "base_uri": "https://localhost:8080/",
          "height": 50
        },
        "outputId": "59284859-056f-4be5-dd64-ebb4f1703995"
      },
      "source": [
        "#View the shape of the entire data\n",
        "print(\"Total size of data\")\n",
        "df.shape"
      ],
      "execution_count": 72,
      "outputs": [
        {
          "output_type": "stream",
          "text": [
            "Total size of data\n"
          ],
          "name": "stdout"
        },
        {
          "output_type": "execute_result",
          "data": {
            "text/plain": [
              "(9994, 12)"
            ]
          },
          "metadata": {
            "tags": []
          },
          "execution_count": 72
        }
      ]
    },
    {
      "cell_type": "code",
      "metadata": {
        "id": "Mkh39T3oE8nS",
        "colab_type": "code",
        "colab": {
          "base_uri": "https://localhost:8080/",
          "height": 33
        },
        "outputId": "d95fae53-4c49-4e15-b106-d174bf473305"
      },
      "source": [
        "#Checking percentage of loss data (loss data / total data x 100)\n",
        "1871/9994 * 100"
      ],
      "execution_count": 73,
      "outputs": [
        {
          "output_type": "execute_result",
          "data": {
            "text/plain": [
              "18.721232739643785"
            ]
          },
          "metadata": {
            "tags": []
          },
          "execution_count": 73
        }
      ]
    },
    {
      "cell_type": "markdown",
      "metadata": {
        "id": "a3AZjF6HFI8U",
        "colab_type": "text"
      },
      "source": [
        "Around 18% of data is in loss\n"
      ]
    },
    {
      "cell_type": "markdown",
      "metadata": {
        "id": "VmOM1AA9FSGx",
        "colab_type": "text"
      },
      "source": [
        "#**City wise profit distribution**\n"
      ]
    },
    {
      "cell_type": "code",
      "metadata": {
        "id": "y4CFwX-BFGcH",
        "colab_type": "code",
        "colab": {
          "base_uri": "https://localhost:8080/",
          "height": 234
        },
        "outputId": "4373ed72-3f13-41d7-c610-5e378e85ae14"
      },
      "source": [
        "#City wise profit\n",
        "profit_city = df.groupby(\"City\").sum()['Profit']\n",
        "profit_city"
      ],
      "execution_count": 74,
      "outputs": [
        {
          "output_type": "execute_result",
          "data": {
            "text/plain": [
              "City\n",
              "Aberdeen          6.6300\n",
              "Abilene          -3.7584\n",
              "Akron          -186.6356\n",
              "Albuquerque     634.0881\n",
              "Alexandria      318.6183\n",
              "                 ...    \n",
              "Woonsocket       78.6791\n",
              "Yonkers        2767.7557\n",
              "York           -102.1692\n",
              "Yucaipa          13.2080\n",
              "Yuma           -465.9909\n",
              "Name: Profit, Length: 531, dtype: float64"
            ]
          },
          "metadata": {
            "tags": []
          },
          "execution_count": 74
        }
      ]
    },
    {
      "cell_type": "code",
      "metadata": {
        "id": "VahWkWB1Fj84",
        "colab_type": "code",
        "colab": {
          "base_uri": "https://localhost:8080/",
          "height": 134
        },
        "outputId": "5029f71d-4768-48c3-8d62-9112d686840a"
      },
      "source": [
        "#Sorting city wise profit Descending\n",
        "profit_city.sort_values(ascending = False).head()"
      ],
      "execution_count": 78,
      "outputs": [
        {
          "output_type": "execute_result",
          "data": {
            "text/plain": [
              "City\n",
              "New York City    62036.9837\n",
              "Los Angeles      30440.7579\n",
              "Seattle          29156.0967\n",
              "San Francisco    17507.3854\n",
              "Detroit          13181.7908\n",
              "Name: Profit, dtype: float64"
            ]
          },
          "metadata": {
            "tags": []
          },
          "execution_count": 78
        }
      ]
    },
    {
      "cell_type": "code",
      "metadata": {
        "id": "b3OyJAh9Fqdi",
        "colab_type": "code",
        "colab": {
          "base_uri": "https://localhost:8080/",
          "height": 217
        },
        "outputId": "02fe4074-2683-4ea4-cf9a-146e112c5985"
      },
      "source": [
        "#Sorting city wise profit Descending (Top 10 rows)\n",
        "profit_city.sort_values(ascending = True).head(10)"
      ],
      "execution_count": 79,
      "outputs": [
        {
          "output_type": "execute_result",
          "data": {
            "text/plain": [
              "City\n",
              "Philadelphia   -13837.7674\n",
              "Houston        -10153.5485\n",
              "San Antonio     -7299.0502\n",
              "Lancaster       -7239.0684\n",
              "Chicago         -6654.5688\n",
              "Burlington      -3622.8772\n",
              "Dallas          -2846.5257\n",
              "Phoenix         -2790.8832\n",
              "Aurora          -2691.7386\n",
              "Jacksonville    -2323.8350\n",
              "Name: Profit, dtype: float64"
            ]
          },
          "metadata": {
            "tags": []
          },
          "execution_count": 79
        }
      ]
    },
    {
      "cell_type": "code",
      "metadata": {
        "id": "3rjPDZPWF0PE",
        "colab_type": "code",
        "colab": {
          "base_uri": "https://localhost:8080/",
          "height": 365
        },
        "outputId": "cb57fc76-c8e2-4b3c-9be1-7ef96d198bc2"
      },
      "source": [
        "#Plotting Maximum and Minimum profit of city\n",
        "\n",
        "fig,axes = plt.subplots(1,2, figsize = (15,5))\n",
        "\n",
        "\n",
        "profit_city.sort_values(ascending = False).head().plot(kind ='bar', ax = axes[0])\n",
        "axes[0].tick_params(labelrotation = 10)\n",
        "axes[0].set_title(\"MAXIMUM PROFIT OF CITY\")\n",
        "\n",
        "profit_city.sort_values(ascending = True).head().plot(kind='bar',ax = axes[1])\n",
        "plt.xticks(rotation = 15)\n",
        "plt.title(\"MINIMUM PROFIT OF CITY \")\n",
        "\n",
        "plt.show()"
      ],
      "execution_count": 80,
      "outputs": [
        {
          "output_type": "display_data",
          "data": {
            "image/png": "[encoded data removed]",
            "text/plain": [
              "<Figure size 1080x360 with 2 Axes>"
            ]
          },
          "metadata": {
            "tags": [],
            "needs_background": "light"
          }
        }
      ]
    },
    {
      "cell_type": "markdown",
      "metadata": {
        "id": "ldxbxTXZGO85",
        "colab_type": "text"
      },
      "source": [
        "###Now its clear that **\"New York City\"** has Maximum profit and **\"Philadelphia\"** has Maximum loss"
      ]
    },
    {
      "cell_type": "markdown",
      "metadata": {
        "id": "gbPyf92TG02D",
        "colab_type": "text"
      },
      "source": [
        "#**State wise profit distribution**\n"
      ]
    },
    {
      "cell_type": "code",
      "metadata": {
        "id": "InEDauXWG0bf",
        "colab_type": "code",
        "colab": {
          "base_uri": "https://localhost:8080/",
          "height": 870
        },
        "outputId": "85c26ff0-a2ff-4215-cfb9-ec6af46785e4"
      },
      "source": [
        "# State wise profit\n",
        "state_profit = df.groupby('State').sum()['Profit']\n",
        "state_profit"
      ],
      "execution_count": 82,
      "outputs": [
        {
          "output_type": "execute_result",
          "data": {
            "text/plain": [
              "State\n",
              "Alabama                  5786.8253\n",
              "Arizona                 -3427.9246\n",
              "Arkansas                 4008.6871\n",
              "California              76381.3871\n",
              "Colorado                -6527.8579\n",
              "Connecticut              3511.4918\n",
              "Delaware                 9977.3748\n",
              "District of Columbia     1059.5893\n",
              "Florida                 -3399.3017\n",
              "Georgia                 16250.0433\n",
              "Idaho                     826.7231\n",
              "Illinois               -12607.8870\n",
              "Indiana                 18382.9363\n",
              "Iowa                     1183.8119\n",
              "Kansas                    836.4435\n",
              "Kentucky                11199.6966\n",
              "Louisiana                2196.1023\n",
              "Maine                     454.4862\n",
              "Maryland                 7031.1788\n",
              "Massachusetts            6785.5016\n",
              "Michigan                24463.1876\n",
              "Minnesota               10823.1874\n",
              "Mississippi              3172.9762\n",
              "Missouri                 6436.2105\n",
              "Montana                  1833.3285\n",
              "Nebraska                 2037.0942\n",
              "Nevada                   3316.7659\n",
              "New Hampshire            1706.5028\n",
              "New Jersey               9772.9138\n",
              "New Mexico               1157.1161\n",
              "New York                74038.5486\n",
              "North Carolina          -7490.9122\n",
              "North Dakota              230.1497\n",
              "Ohio                   -16971.3766\n",
              "Oklahoma                 4853.9560\n",
              "Oregon                  -1190.4705\n",
              "Pennsylvania           -15559.9603\n",
              "Rhode Island             7285.6293\n",
              "South Carolina           1769.0566\n",
              "South Dakota              394.8283\n",
              "Tennessee               -5341.6936\n",
              "Texas                  -25729.3563\n",
              "Utah                     2546.5335\n",
              "Vermont                  2244.9783\n",
              "Virginia                18597.9504\n",
              "Washington              33402.6517\n",
              "West Virginia             185.9216\n",
              "Wisconsin                8401.8004\n",
              "Wyoming                   100.1960\n",
              "Name: Profit, dtype: float64"
            ]
          },
          "metadata": {
            "tags": []
          },
          "execution_count": 82
        }
      ]
    },
    {
      "cell_type": "code",
      "metadata": {
        "id": "gKe8-soIGIi5",
        "colab_type": "code",
        "colab": {
          "base_uri": "https://localhost:8080/",
          "height": 404
        },
        "outputId": "e0f3a383-7f82-4e19-90e5-33ec7d872910"
      },
      "source": [
        "#Plotting state wise profit \n",
        "\n",
        "plt.figure(figsize =(18,5))\n",
        "sns.barplot(x = state_profit.index, y=state_profit.values)\n",
        "plt.xticks(rotation =90)\n",
        "plt.title(\"STATE WISE PROFIT\");"
      ],
      "execution_count": 83,
      "outputs": [
        {
          "output_type": "display_data",
          "data": {
            "image/png": "[encoded data removed]",
            "text/plain": [
              "<Figure size 1296x360 with 1 Axes>"
            ]
          },
          "metadata": {
            "tags": [],
            "needs_background": "light"
          }
        }
      ]
    },
    {
      "cell_type": "code",
      "metadata": {
        "id": "fLs9bXMLHSvI",
        "colab_type": "code",
        "colab": {
          "base_uri": "https://localhost:8080/",
          "height": 134
        },
        "outputId": "e97a7c73-e5c1-4702-a81c-d06c72acd040"
      },
      "source": [
        "#Sorting state wise profit Descending (Top 5 rows)\n",
        "state_profit.sort_values(ascending = False).head(5)"
      ],
      "execution_count": 84,
      "outputs": [
        {
          "output_type": "execute_result",
          "data": {
            "text/plain": [
              "State\n",
              "California    76381.3871\n",
              "New York      74038.5486\n",
              "Washington    33402.6517\n",
              "Michigan      24463.1876\n",
              "Virginia      18597.9504\n",
              "Name: Profit, dtype: float64"
            ]
          },
          "metadata": {
            "tags": []
          },
          "execution_count": 84
        }
      ]
    },
    {
      "cell_type": "code",
      "metadata": {
        "id": "2xwuZ3HeHmAM",
        "colab_type": "code",
        "colab": {
          "base_uri": "https://localhost:8080/",
          "height": 33
        },
        "outputId": "f7b4bd6b-f011-45fe-f881-e994633e6e8a"
      },
      "source": [
        "#Converting it to dataframe\n",
        "df_state_profit = pd.DataFrame(state_profit)\n",
        "type(df_state_profit)"
      ],
      "execution_count": 85,
      "outputs": [
        {
          "output_type": "execute_result",
          "data": {
            "text/plain": [
              "pandas.core.frame.DataFrame"
            ]
          },
          "metadata": {
            "tags": []
          },
          "execution_count": 85
        }
      ]
    },
    {
      "cell_type": "markdown",
      "metadata": {
        "id": "pW9e9hrsH71D",
        "colab_type": "text"
      },
      "source": [
        "#**Region wise profit distribution**\n"
      ]
    },
    {
      "cell_type": "code",
      "metadata": {
        "id": "CxnlSsZ5H7O0",
        "colab_type": "code",
        "colab": {
          "base_uri": "https://localhost:8080/",
          "height": 196
        },
        "outputId": "2e53d6ed-54b1-4d5a-a43c-821eebc8dba8"
      },
      "source": [
        "#Region wise profit\n",
        "region_profit = pd.DataFrame(df.groupby('Region').sum()['Profit'])\n",
        "region_profit"
      ],
      "execution_count": 86,
      "outputs": [
        {
          "output_type": "execute_result",
          "data": {
            "text/html": [
              "<div>\n",
              "<style scoped>\n",
              "    .dataframe tbody tr th:only-of-type {\n",
              "        vertical-align: middle;\n",
              "    }\n",
              "\n",
              "    .dataframe tbody tr th {\n",
              "        vertical-align: top;\n",
              "    }\n",
              "\n",
              "    .dataframe thead th {\n",
              "        text-align: right;\n",
              "    }\n",
              "</style>\n",
              "<table border=\"1\" class=\"dataframe\">\n",
              "  <thead>\n",
              "    <tr style=\"text-align: right;\">\n",
              "      <th></th>\n",
              "      <th>Profit</th>\n",
              "    </tr>\n",
              "    <tr>\n",
              "      <th>Region</th>\n",
              "      <th></th>\n",
              "    </tr>\n",
              "  </thead>\n",
              "  <tbody>\n",
              "    <tr>\n",
              "      <th>Central</th>\n",
              "      <td>39706.3625</td>\n",
              "    </tr>\n",
              "    <tr>\n",
              "      <th>East</th>\n",
              "      <td>91522.7800</td>\n",
              "    </tr>\n",
              "    <tr>\n",
              "      <th>South</th>\n",
              "      <td>46749.4303</td>\n",
              "    </tr>\n",
              "    <tr>\n",
              "      <th>West</th>\n",
              "      <td>108418.4489</td>\n",
              "    </tr>\n",
              "  </tbody>\n",
              "</table>\n",
              "</div>"
            ],
            "text/plain": [
              "              Profit\n",
              "Region              \n",
              "Central   39706.3625\n",
              "East      91522.7800\n",
              "South     46749.4303\n",
              "West     108418.4489"
            ]
          },
          "metadata": {
            "tags": []
          },
          "execution_count": 86
        }
      ]
    },
    {
      "cell_type": "code",
      "metadata": {
        "id": "dBBCnTU0HtX5",
        "colab_type": "code",
        "colab": {
          "base_uri": "https://localhost:8080/",
          "height": 384
        },
        "outputId": "e0e240f9-81a3-43bc-8c43-ccccb7b59f65"
      },
      "source": [
        "#Plotting Region wise profit (Pie Chart)\n",
        "plt.pie(region_profit, labels = region_profit.index, autopct= \"%.2f\", explode = (0.05,0.05,0.05,0.20),radius=1.5)\n",
        "\n",
        "centre_circle = plt.Circle((0,0), 0.90, fc = 'white')\n",
        "fig= plt.gcf()\n",
        "fig.gca().add_artist(centre_circle);"
      ],
      "execution_count": 87,
      "outputs": [
        {
          "output_type": "stream",
          "text": [
            "/usr/local/lib/python3.6/dist-packages/ipykernel_launcher.py:2: MatplotlibDeprecationWarning: Non-1D inputs to pie() are currently squeeze()d, but this behavior is deprecated since 3.1 and will be removed in 3.3; pass a 1D array instead.\n",
            "  \n"
          ],
          "name": "stderr"
        },
        {
          "output_type": "display_data",
          "data": {
            "image/png": "[encoded data removed]",
            "text/plain": [
              "<Figure size 432x288 with 1 Axes>"
            ]
          },
          "metadata": {
            "tags": []
          }
        }
      ]
    },
    {
      "cell_type": "markdown",
      "metadata": {
        "id": "DUCozAEimLaK",
        "colab_type": "text"
      },
      "source": [
        "###its clear from the above Pie-chart that **\"West Region\"** has Maximum profit followed by **\"East Region\"** "
      ]
    },
    {
      "cell_type": "markdown",
      "metadata": {
        "id": "g3ymOX_KLhx0",
        "colab_type": "text"
      },
      "source": [
        "#**City wise sale distribution**\n"
      ]
    },
    {
      "cell_type": "code",
      "metadata": {
        "id": "Gj1lyWCkLoGX",
        "colab_type": "code",
        "colab": {}
      },
      "source": [
        "#City wise sale\n",
        "city_sale = pd.DataFrame(df.groupby('City').sum()['Sales'])"
      ],
      "execution_count": 92,
      "outputs": []
    },
    {
      "cell_type": "code",
      "metadata": {
        "id": "3xN0H8mUL_bO",
        "colab_type": "code",
        "colab": {
          "base_uri": "https://localhost:8080/",
          "height": 375
        },
        "outputId": "532736ac-d2bc-4f88-c861-7df2ae4b366a"
      },
      "source": [
        "#Sorting city wise sale Descending (Top 10 rows)\n",
        "city_sale_sort = city_sale.sort_values(by='Sales',ascending = False).head(10)\n",
        "city_sale_sort"
      ],
      "execution_count": 91,
      "outputs": [
        {
          "output_type": "execute_result",
          "data": {
            "text/html": [
              "<div>\n",
              "<style scoped>\n",
              "    .dataframe tbody tr th:only-of-type {\n",
              "        vertical-align: middle;\n",
              "    }\n",
              "\n",
              "    .dataframe tbody tr th {\n",
              "        vertical-align: top;\n",
              "    }\n",
              "\n",
              "    .dataframe thead th {\n",
              "        text-align: right;\n",
              "    }\n",
              "</style>\n",
              "<table border=\"1\" class=\"dataframe\">\n",
              "  <thead>\n",
              "    <tr style=\"text-align: right;\">\n",
              "      <th></th>\n",
              "      <th>Sales</th>\n",
              "    </tr>\n",
              "    <tr>\n",
              "      <th>City</th>\n",
              "      <th></th>\n",
              "    </tr>\n",
              "  </thead>\n",
              "  <tbody>\n",
              "    <tr>\n",
              "      <th>New York City</th>\n",
              "      <td>256368.1610</td>\n",
              "    </tr>\n",
              "    <tr>\n",
              "      <th>Los Angeles</th>\n",
              "      <td>175851.3410</td>\n",
              "    </tr>\n",
              "    <tr>\n",
              "      <th>Seattle</th>\n",
              "      <td>119540.7420</td>\n",
              "    </tr>\n",
              "    <tr>\n",
              "      <th>San Francisco</th>\n",
              "      <td>112669.0920</td>\n",
              "    </tr>\n",
              "    <tr>\n",
              "      <th>Philadelphia</th>\n",
              "      <td>109077.0130</td>\n",
              "    </tr>\n",
              "    <tr>\n",
              "      <th>Houston</th>\n",
              "      <td>64504.7604</td>\n",
              "    </tr>\n",
              "    <tr>\n",
              "      <th>Chicago</th>\n",
              "      <td>48539.5410</td>\n",
              "    </tr>\n",
              "    <tr>\n",
              "      <th>San Diego</th>\n",
              "      <td>47521.0290</td>\n",
              "    </tr>\n",
              "    <tr>\n",
              "      <th>Jacksonville</th>\n",
              "      <td>44713.1830</td>\n",
              "    </tr>\n",
              "    <tr>\n",
              "      <th>Springfield</th>\n",
              "      <td>43054.3420</td>\n",
              "    </tr>\n",
              "  </tbody>\n",
              "</table>\n",
              "</div>"
            ],
            "text/plain": [
              "                     Sales\n",
              "City                      \n",
              "New York City  256368.1610\n",
              "Los Angeles    175851.3410\n",
              "Seattle        119540.7420\n",
              "San Francisco  112669.0920\n",
              "Philadelphia   109077.0130\n",
              "Houston         64504.7604\n",
              "Chicago         48539.5410\n",
              "San Diego       47521.0290\n",
              "Jacksonville    44713.1830\n",
              "Springfield     43054.3420"
            ]
          },
          "metadata": {
            "tags": []
          },
          "execution_count": 91
        }
      ]
    },
    {
      "cell_type": "code",
      "metadata": {
        "id": "eySAMzptMGs1",
        "colab_type": "code",
        "colab": {
          "base_uri": "https://localhost:8080/",
          "height": 450
        },
        "outputId": "1359c809-0892-4924-86de-5b6407d134ad"
      },
      "source": [
        "#Plotting city wise sale (Pie Chart)\n",
        "plt.pie(city_sale_sort, labels = city_sale_sort.index, autopct= \"%.2f\",shadow = True, radius = 2)\n",
        "\n",
        "centre_circle = plt.Circle((0,0), 0.70, fc = 'white')\n",
        "fig= plt.gcf()\n",
        "fig.gca().add_artist(centre_circle);"
      ],
      "execution_count": 93,
      "outputs": [
        {
          "output_type": "stream",
          "text": [
            "/usr/local/lib/python3.6/dist-packages/ipykernel_launcher.py:2: MatplotlibDeprecationWarning: Non-1D inputs to pie() are currently squeeze()d, but this behavior is deprecated since 3.1 and will be removed in 3.3; pass a 1D array instead.\n",
            "  \n"
          ],
          "name": "stderr"
        },
        {
          "output_type": "display_data",
          "data": {
            "image/png": "[encoded data removed]",
            "text/plain": [
              "<Figure size 432x288 with 1 Axes>"
            ]
          },
          "metadata": {
            "tags": []
          }
        }
      ]
    },
    {
      "cell_type": "markdown",
      "metadata": {
        "id": "HY1jaWxZO38-",
        "colab_type": "text"
      },
      "source": [
        "###its clear from the above Pie-chart that **\"New York City\"** has Maximum sale followed by **\"Los Angeles\"** "
      ]
    },
    {
      "cell_type": "markdown",
      "metadata": {
        "id": "pybjZI7-PR4Z",
        "colab_type": "text"
      },
      "source": [
        "#**State wise sale distribution**\n"
      ]
    },
    {
      "cell_type": "code",
      "metadata": {
        "id": "kLp0w1bqLx9-",
        "colab_type": "code",
        "colab": {}
      },
      "source": [
        "#State wise sale\n",
        "state_sale = pd.DataFrame(df.groupby('State').sum()['Sales'])"
      ],
      "execution_count": 94,
      "outputs": []
    },
    {
      "cell_type": "code",
      "metadata": {
        "id": "WgLPJQOgPpyA",
        "colab_type": "code",
        "colab": {
          "base_uri": "https://localhost:8080/",
          "height": 375
        },
        "outputId": "c978d2f4-fad1-4a4d-b64b-a63330cf7708"
      },
      "source": [
        "#Sorting state wise sale Descending (Top 10 rows)\n",
        "state_sale_sort =state_sale.sort_values(by= 'Sales',ascending = False).head(10)\n",
        "state_sale_sort"
      ],
      "execution_count": 95,
      "outputs": [
        {
          "output_type": "execute_result",
          "data": {
            "text/html": [
              "<div>\n",
              "<style scoped>\n",
              "    .dataframe tbody tr th:only-of-type {\n",
              "        vertical-align: middle;\n",
              "    }\n",
              "\n",
              "    .dataframe tbody tr th {\n",
              "        vertical-align: top;\n",
              "    }\n",
              "\n",
              "    .dataframe thead th {\n",
              "        text-align: right;\n",
              "    }\n",
              "</style>\n",
              "<table border=\"1\" class=\"dataframe\">\n",
              "  <thead>\n",
              "    <tr style=\"text-align: right;\">\n",
              "      <th></th>\n",
              "      <th>Sales</th>\n",
              "    </tr>\n",
              "    <tr>\n",
              "      <th>State</th>\n",
              "      <th></th>\n",
              "    </tr>\n",
              "  </thead>\n",
              "  <tbody>\n",
              "    <tr>\n",
              "      <th>California</th>\n",
              "      <td>457687.6315</td>\n",
              "    </tr>\n",
              "    <tr>\n",
              "      <th>New York</th>\n",
              "      <td>310876.2710</td>\n",
              "    </tr>\n",
              "    <tr>\n",
              "      <th>Texas</th>\n",
              "      <td>170188.0458</td>\n",
              "    </tr>\n",
              "    <tr>\n",
              "      <th>Washington</th>\n",
              "      <td>138641.2700</td>\n",
              "    </tr>\n",
              "    <tr>\n",
              "      <th>Pennsylvania</th>\n",
              "      <td>116511.9140</td>\n",
              "    </tr>\n",
              "    <tr>\n",
              "      <th>Florida</th>\n",
              "      <td>89473.7080</td>\n",
              "    </tr>\n",
              "    <tr>\n",
              "      <th>Illinois</th>\n",
              "      <td>80166.1010</td>\n",
              "    </tr>\n",
              "    <tr>\n",
              "      <th>Ohio</th>\n",
              "      <td>78258.1360</td>\n",
              "    </tr>\n",
              "    <tr>\n",
              "      <th>Michigan</th>\n",
              "      <td>76269.6140</td>\n",
              "    </tr>\n",
              "    <tr>\n",
              "      <th>Virginia</th>\n",
              "      <td>70636.7200</td>\n",
              "    </tr>\n",
              "  </tbody>\n",
              "</table>\n",
              "</div>"
            ],
            "text/plain": [
              "                    Sales\n",
              "State                    \n",
              "California    457687.6315\n",
              "New York      310876.2710\n",
              "Texas         170188.0458\n",
              "Washington    138641.2700\n",
              "Pennsylvania  116511.9140\n",
              "Florida        89473.7080\n",
              "Illinois       80166.1010\n",
              "Ohio           78258.1360\n",
              "Michigan       76269.6140\n",
              "Virginia       70636.7200"
            ]
          },
          "metadata": {
            "tags": []
          },
          "execution_count": 95
        }
      ]
    },
    {
      "cell_type": "code",
      "metadata": {
        "id": "lCrWjdkqPwBB",
        "colab_type": "code",
        "colab": {
          "base_uri": "https://localhost:8080/",
          "height": 453
        },
        "outputId": "bca6c6e8-ff83-4edc-daa5-bdc495cd5bdb"
      },
      "source": [
        "#Plotting state wise sale (Pie Chart)\n",
        "plt.pie(state_sale_sort, labels = state_sale_sort.index, autopct= \"%.2f\",shadow = True, radius = 2)\n",
        "\n",
        "centre_circle = plt.Circle((0,0), 0.70, fc = 'white')\n",
        "fig= plt.gcf()\n",
        "fig.gca().add_artist(centre_circle);"
      ],
      "execution_count": 96,
      "outputs": [
        {
          "output_type": "stream",
          "text": [
            "/usr/local/lib/python3.6/dist-packages/ipykernel_launcher.py:2: MatplotlibDeprecationWarning: Non-1D inputs to pie() are currently squeeze()d, but this behavior is deprecated since 3.1 and will be removed in 3.3; pass a 1D array instead.\n",
            "  \n"
          ],
          "name": "stderr"
        },
        {
          "output_type": "display_data",
          "data": {
            "image/png": "[encoded data removed]",
            "text/plain": [
              "<Figure size 432x288 with 1 Axes>"
            ]
          },
          "metadata": {
            "tags": []
          }
        }
      ]
    },
    {
      "cell_type": "markdown",
      "metadata": {
        "id": "RbwoA_0ORSUz",
        "colab_type": "text"
      },
      "source": [
        "###its clear from the above Pie-chart that **\"California\"** has Maximum sale followed by **\"New York\"** "
      ]
    },
    {
      "cell_type": "markdown",
      "metadata": {
        "id": "KHhjuRNASMTA",
        "colab_type": "text"
      },
      "source": [
        "#**Region wise sale distribution**\n"
      ]
    },
    {
      "cell_type": "code",
      "metadata": {
        "id": "h34GQy5NQERw",
        "colab_type": "code",
        "colab": {}
      },
      "source": [
        "#Region wise sale\n",
        "region_sale = pd.DataFrame(df.groupby('Region').sum()['Sales'])"
      ],
      "execution_count": 97,
      "outputs": []
    },
    {
      "cell_type": "code",
      "metadata": {
        "id": "Uk9My2B9Sap9",
        "colab_type": "code",
        "colab": {
          "base_uri": "https://localhost:8080/",
          "height": 196
        },
        "outputId": "a392ceef-daa0-433b-f564-bf8484658cb1"
      },
      "source": [
        "#Sorting Region wise sale Descending (Top 10 rows)\n",
        "region_sale_sort =region_sale.sort_values(by= 'Sales',ascending = False).head(10)\n",
        "region_sale_sort"
      ],
      "execution_count": 98,
      "outputs": [
        {
          "output_type": "execute_result",
          "data": {
            "text/html": [
              "<div>\n",
              "<style scoped>\n",
              "    .dataframe tbody tr th:only-of-type {\n",
              "        vertical-align: middle;\n",
              "    }\n",
              "\n",
              "    .dataframe tbody tr th {\n",
              "        vertical-align: top;\n",
              "    }\n",
              "\n",
              "    .dataframe thead th {\n",
              "        text-align: right;\n",
              "    }\n",
              "</style>\n",
              "<table border=\"1\" class=\"dataframe\">\n",
              "  <thead>\n",
              "    <tr style=\"text-align: right;\">\n",
              "      <th></th>\n",
              "      <th>Sales</th>\n",
              "    </tr>\n",
              "    <tr>\n",
              "      <th>Region</th>\n",
              "      <th></th>\n",
              "    </tr>\n",
              "  </thead>\n",
              "  <tbody>\n",
              "    <tr>\n",
              "      <th>West</th>\n",
              "      <td>725457.8245</td>\n",
              "    </tr>\n",
              "    <tr>\n",
              "      <th>East</th>\n",
              "      <td>678781.2400</td>\n",
              "    </tr>\n",
              "    <tr>\n",
              "      <th>Central</th>\n",
              "      <td>501239.8908</td>\n",
              "    </tr>\n",
              "    <tr>\n",
              "      <th>South</th>\n",
              "      <td>391721.9050</td>\n",
              "    </tr>\n",
              "  </tbody>\n",
              "</table>\n",
              "</div>"
            ],
            "text/plain": [
              "               Sales\n",
              "Region              \n",
              "West     725457.8245\n",
              "East     678781.2400\n",
              "Central  501239.8908\n",
              "South    391721.9050"
            ]
          },
          "metadata": {
            "tags": []
          },
          "execution_count": 98
        }
      ]
    },
    {
      "cell_type": "code",
      "metadata": {
        "id": "luP9xineS1Cw",
        "colab_type": "code",
        "colab": {
          "base_uri": "https://localhost:8080/",
          "height": 453
        },
        "outputId": "cab0647f-17c3-4b01-c2b5-54099677c59c"
      },
      "source": [
        "#Plotting region wise sale (Pie Chart)\n",
        "plt.pie(region_sale_sort, labels = region_sale_sort.index, autopct= \"%.2f\",shadow = True, radius = 2)\n",
        "\n",
        "centre_circle = plt.Circle((0,0), 0.90, fc = 'white')\n",
        "fig= plt.gcf()\n",
        "fig.gca().add_artist(centre_circle);"
      ],
      "execution_count": 99,
      "outputs": [
        {
          "output_type": "stream",
          "text": [
            "/usr/local/lib/python3.6/dist-packages/ipykernel_launcher.py:2: MatplotlibDeprecationWarning: Non-1D inputs to pie() are currently squeeze()d, but this behavior is deprecated since 3.1 and will be removed in 3.3; pass a 1D array instead.\n",
            "  \n"
          ],
          "name": "stderr"
        },
        {
          "output_type": "display_data",
          "data": {
            "image/png": "[encoded data removed]",
            "text/plain": [
              "<Figure size 432x288 with 1 Axes>"
            ]
          },
          "metadata": {
            "tags": []
          }
        }
      ]
    },
    {
      "cell_type": "markdown",
      "metadata": {
        "id": "_qzZG4e9TE1C",
        "colab_type": "text"
      },
      "source": [
        "###its clear from the above Pie-chart that **\"West Region\"** has Maximum sale followed by **\"East Region\"** "
      ]
    },
    {
      "cell_type": "code",
      "metadata": {
        "id": "kcM8PUW5TBUo",
        "colab_type": "code",
        "colab": {}
      },
      "source": [
        ""
      ],
      "execution_count": null,
      "outputs": []
    }
  ]
}